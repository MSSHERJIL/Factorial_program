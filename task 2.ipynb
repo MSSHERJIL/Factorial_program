{
  "nbformat": 4,
  "nbformat_minor": 0,
  "metadata": {
    "colab": {
      "provenance": []
    },
    "kernelspec": {
      "name": "python3",
      "display_name": "Python 3"
    },
    "language_info": {
      "name": "python"
    }
  },
  "cells": [
    {
      "cell_type": "code",
      "source": [
        "n=int(input('enter number:'))\n",
        "\n",
        "def factorial(n):\n",
        "  factorial=1\n",
        "  if n<0:\n",
        "    print('negative number does not exist')\n",
        "  elif n==0 or n==1:\n",
        "    return 1\n",
        "  else:\n",
        "    for i in range (1,n+1):\n",
        "      factorial=factorial*i\n",
        "    return factorial\n",
        "result=factorial(n)\n",
        "print('the resuult of ',n,'is',result)\n"
      ],
      "metadata": {
        "colab": {
          "base_uri": "https://localhost:8080/"
        },
        "id": "DwP1T7v0SLfg",
        "outputId": "fab2d64b-2a03-4b5a-8bf4-79caa49f3c89"
      },
      "execution_count": 68,
      "outputs": [
        {
          "output_type": "stream",
          "name": "stdout",
          "text": [
            "enter number:-2\n",
            "negative number does not exist\n",
            "the resuult of  -2 is None\n"
          ]
        }
      ]
    }
  ]
}